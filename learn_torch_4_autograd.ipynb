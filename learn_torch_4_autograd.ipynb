{
  "nbformat": 4,
  "nbformat_minor": 0,
  "metadata": {
    "colab": {
      "provenance": [],
      "authorship_tag": "ABX9TyOku/kNZLVcVbywI6hixpa5",
      "include_colab_link": true
    },
    "kernelspec": {
      "name": "python3",
      "display_name": "Python 3"
    },
    "language_info": {
      "name": "python"
    }
  },
  "cells": [
    {
      "cell_type": "markdown",
      "metadata": {
        "id": "view-in-github",
        "colab_type": "text"
      },
      "source": [
        "<a href=\"https://colab.research.google.com/github/szsctt/learn_torch/blob/main/learn_torch_4_autograd.ipynb\" target=\"_parent\"><img src=\"https://colab.research.google.com/assets/colab-badge.svg\" alt=\"Open In Colab\"/></a>"
      ]
    },
    {
      "cell_type": "markdown",
      "source": [
        "## Automatic differentiation with `torch.autograd`\n",
        "\n",
        "Neural networks are most commonly trained using the **backpropagation** algorithm, which adjusts the weights and biases of the model according to the **gradient** of the loss function with respect to each parameter.\n",
        "\n",
        "PyTorch has a built in auto-differentiation engine called `torch.autograd`, which supports automatic computation of a gradient for any computational graph.\n",
        "\n",
        "Take as an example a one-layer neural network, with input `x`, parameters `w` and `b`, and some loss function."
      ],
      "metadata": {
        "id": "9TkOFsxoFIvu"
      }
    },
    {
      "cell_type": "code",
      "execution_count": 1,
      "metadata": {
        "id": "oMfcM76ZFCBP"
      },
      "outputs": [],
      "source": [
        "import torch\n",
        "\n",
        "x = torch.ones(5)\n",
        "y = torch.zeros(3)\n",
        "w = torch.randn(5, 3, requires_grad = True)\n",
        "b = torch.randn(3, requires_grad = True)\n",
        "z = torch.matmul(x, w) + b\n",
        "loss = torch.nn.functional.binary_cross_entropy_with_logits(z, y)"
      ]
    },
    {
      "cell_type": "markdown",
      "source": [
        "This code defines a computational graph where w and b are parameters, which we need to optimize. Thus, we need to be able to compute the gradients of loss function with respect to those variables. In order to do that, we set the `requires_grad` property of those tensors.\n",
        "\n",
        "A function that we apply to tensors to construct computational graph is in fact an object of class Function. This object knows how to compute the function in the forward direction, and also how to compute its derivative during the backward propagation step. A reference to the backward propagation function is stored in grad_fn property of a tensor. You can find more information of Function [in the documentation](https://pytorch.org/docs/stable/autograd.html#function).\n",
        "\n"
      ],
      "metadata": {
        "id": "JCc4eJD7HlOz"
      }
    },
    {
      "cell_type": "code",
      "source": [
        "print(f\"Gradient function for z = {z.grad_fn}\")\n",
        "print(f\"Gradient function for loss = {loss.grad_fn}\")"
      ],
      "metadata": {
        "colab": {
          "base_uri": "https://localhost:8080/"
        },
        "id": "e_7wc7eVIPWn",
        "outputId": "3ae53b59-f9a2-4a0f-9b5b-fcab9f808551"
      },
      "execution_count": 2,
      "outputs": [
        {
          "output_type": "stream",
          "name": "stdout",
          "text": [
            "Gradient function for z = <AddBackward0 object at 0x7f3ea488aeb0>\n",
            "Gradient function for loss = <BinaryCrossEntropyWithLogitsBackward0 object at 0x7f3ea488af10>\n"
          ]
        }
      ]
    },
    {
      "cell_type": "markdown",
      "source": [
        "\n",
        "### Computing gradients\n",
        "\n",
        "To optimize weights of parameters in the neural network, we need to compute the derivatives of our loss function with respect to parameters, namely, we need $\\frac{∂loss}{∂w}$ and $\\frac{∂loss}{∂b}$​ under some fixed values of x and y. To compute those derivatives, we call `loss.backward()`, and then retrieve the values from `w.grad` and `b.grad`:\n"
      ],
      "metadata": {
        "id": "1Js95XLlIN1c"
      }
    },
    {
      "cell_type": "code",
      "source": [
        "loss.backward()\n",
        "print(w.grad)\n",
        "print(b.grad)"
      ],
      "metadata": {
        "colab": {
          "base_uri": "https://localhost:8080/"
        },
        "id": "n68fRCcnI7V8",
        "outputId": "c9a32991-5c3c-4992-e5d5-f6bd3871960c"
      },
      "execution_count": 3,
      "outputs": [
        {
          "output_type": "stream",
          "name": "stdout",
          "text": [
            "tensor([[0.2475, 0.1836, 0.3225],\n",
            "        [0.2475, 0.1836, 0.3225],\n",
            "        [0.2475, 0.1836, 0.3225],\n",
            "        [0.2475, 0.1836, 0.3225],\n",
            "        [0.2475, 0.1836, 0.3225]])\n",
            "tensor([0.2475, 0.1836, 0.3225])\n"
          ]
        }
      ]
    },
    {
      "cell_type": "markdown",
      "source": [
        "Note that:\n",
        "\n",
        "\n",
        "- We can only obtain the grad properties for the leaf nodes of the computational graph, which have `requires_grad` property set to `True`. For all other nodes in our graph, gradients will not be available.\n",
        "\n",
        "- We can only perform gradient calculations using `backward` once on a given graph, for performance reasons. If we need to do several backward calls on the same graph, we need to pass `retain_graph=True` to the backward call.\n",
        "\n",
        "\n",
        "### Removing gradient tracking\n",
        "\n",
        "By default, all tensors with `requires_grad=True` are tracking their computational history and support gradient computation. However, there are some cases when we do not need to do that, for example, when we have trained the model and just want to apply it to some input data, i.e. we only want to do forward computations through the network. We can stop tracking computations by surrounding our computation code with torch.`no_grad()` block:"
      ],
      "metadata": {
        "id": "mtqW4BTeJCiE"
      }
    },
    {
      "cell_type": "code",
      "source": [
        "z = torch.matmul(x, w)+b\n",
        "print(z.requires_grad)\n",
        "\n",
        "with torch.no_grad():\n",
        "    z = torch.matmul(x, w)+b\n",
        "print(z.requires_grad)"
      ],
      "metadata": {
        "colab": {
          "base_uri": "https://localhost:8080/"
        },
        "id": "Wj1vVCxzJdIc",
        "outputId": "a86ddbd7-64d5-4808-faaf-1887476af14d"
      },
      "execution_count": 4,
      "outputs": [
        {
          "output_type": "stream",
          "name": "stdout",
          "text": [
            "True\n",
            "False\n"
          ]
        }
      ]
    },
    {
      "cell_type": "markdown",
      "source": [
        "Another way is to use the `detach()` method."
      ],
      "metadata": {
        "id": "Luai_vH6JbIj"
      }
    },
    {
      "cell_type": "code",
      "source": [
        "z = torch.matmul(x, w)+b\n",
        "z_det = z.detach()\n",
        "print(z_det.requires_grad)"
      ],
      "metadata": {
        "colab": {
          "base_uri": "https://localhost:8080/"
        },
        "id": "rcNDcF2LJktD",
        "outputId": "12d56ee0-24f5-4e54-da4a-313aceea6cb3"
      },
      "execution_count": 5,
      "outputs": [
        {
          "output_type": "stream",
          "name": "stdout",
          "text": [
            "False\n"
          ]
        }
      ]
    },
    {
      "cell_type": "markdown",
      "source": [
        "\n",
        "There are reasons you might want to disable gradient tracking:\n",
        "\n",
        "- To mark some parameters in your neural network as frozen parameters. This is a very common scenario for [finetuning a pretrained network](https://pytorch.org/tutorials/beginner/finetuning_torchvision_models_tutorial.html)\n",
        "\n",
        "- To speed up computations when you are only doing forward pass, because computations on tensors that do not track gradients would be more efficient.\n",
        "\n",
        "\n",
        "#### More on computational graphs\n",
        "\n",
        "Conceptually, autograd keeps a record of data (tensors) and all executed operations (along with the resulting new tensors) in a directed acyclic graph (DAG) consisting of Function objects. In this DAG, leaves are the input tensors, roots are the output tensors. By tracing this graph from roots to leaves, you can automatically compute the gradients using the chain rule.\n",
        "\n",
        "In a forward pass, autograd does two things simultaneously:\n",
        "\n",
        "- run the requested operation to compute a resulting tensor\n",
        "\n",
        "- maintain the operation’s gradient function in the DAG.\n",
        "\n",
        "The backward pass kicks off when `.backward()` is called on the DAG root. `autograd` then:\n",
        "\n",
        "- computes the gradients from each `.grad_fn`,\n",
        "\n",
        "- accumulates them in the respective tensor’s `.grad` attribute\n",
        "\n",
        "- using the chain rule, propagates all the way to the leaf tensors.\n",
        "\n",
        "Note that DAGs are dynamic in PyTorch An important thing to note is that the graph is recreated from scratch; after each `.backward()` call, autograd starts populating a new graph. This is exactly what allows you to use control flow statements in your model; you can change the shape, size and operations at every iteration if needed.\n",
        "\n"
      ],
      "metadata": {
        "id": "51-yldjVJuhB"
      }
    },
    {
      "cell_type": "code",
      "source": [],
      "metadata": {
        "id": "yOMUwcIlPS2B"
      },
      "execution_count": null,
      "outputs": []
    }
  ]
}