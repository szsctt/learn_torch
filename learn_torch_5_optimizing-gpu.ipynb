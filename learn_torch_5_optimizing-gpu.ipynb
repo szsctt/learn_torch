{
  "nbformat": 4,
  "nbformat_minor": 0,
  "metadata": {
    "colab": {
      "provenance": [],
      "authorship_tag": "ABX9TyOii0UtQk3VM55GCrqZ8a9A",
      "include_colab_link": true
    },
    "kernelspec": {
      "name": "python3",
      "display_name": "Python 3"
    },
    "language_info": {
      "name": "python"
    },
    "gpuClass": "standard",
    "accelerator": "GPU"
  },
  "cells": [
    {
      "cell_type": "markdown",
      "metadata": {
        "id": "view-in-github",
        "colab_type": "text"
      },
      "source": [
        "<a href=\"https://colab.research.google.com/github/szsctt/learn_torch/blob/main/learn_torch_5_optimizing-gpu.ipynb\" target=\"_parent\"><img src=\"https://colab.research.google.com/assets/colab-badge.svg\" alt=\"Open In Colab\"/></a>"
      ]
    },
    {
      "cell_type": "markdown",
      "source": [
        "## Optimizing model parameters\n",
        "\n",
        "Now that we have a model and data it’s time to train, validate and test our model by optimizing its parameters on our data. Training a model is an iterative process; in each iteration the model makes a guess about the output, calculates the error in its guess (loss), collects the derivatives of the error with respect to its parameters (as we saw in the previous section), and optimizes these parameters using gradient descent. For a more detailed walkthrough of this process, check out [this video on backpropagation from 3Blue1Brown](https://www.youtube.com/watch?v=tIeHLnjs5U8).\n",
        "\n",
        "The foundational code here comes from the previous **sections**"
      ],
      "metadata": {
        "id": "0joQsywvPauC"
      }
    },
    {
      "cell_type": "code",
      "execution_count": 1,
      "metadata": {
        "id": "4Ef3vuurPZoO"
      },
      "outputs": [],
      "source": [
        "import torch\n",
        "from torch import nn\n",
        "from torch.utils.data import DataLoader\n",
        "from torchvision import datasets\n",
        "from torchvision.transforms import ToTensor, Lambda\n",
        "\n",
        "if torch.cuda.is_available():\n",
        "  torch.set_default_tensor_type('torch.cuda.FloatTensor')\n",
        "  device = 'cuda'\n",
        "else:\n",
        "  device = 'cpu'\n",
        "\n",
        "def transform_fn(device):\n",
        "  to_tensor = ToTensor()\n",
        "  def transform(X):\n",
        "    return to_tensor(X).to(device)\n",
        "  return transform\n",
        "\n",
        "\n",
        "training_data = datasets.FashionMNIST(\n",
        "    root=\"data\",\n",
        "    train=True,\n",
        "    download=True,\n",
        "    transform=transform_fn(device),\n",
        "    target_transform=Lambda(lambda y: torch.zeros(10).scatter_(0, torch.tensor(y), value=1))\n",
        ")\n",
        "\n",
        "test_data = datasets.FashionMNIST(\n",
        "    root=\"data\",\n",
        "    train=False,\n",
        "    download=True,\n",
        "    transform=transform_fn(device),\n",
        "    target_transform=Lambda(lambda y: torch.zeros(10).scatter_(0, torch.tensor(y), value=1))\n",
        ")\n",
        "\n",
        "train_dataloader = DataLoader(training_data, batch_size=64)\n",
        "test_dataloader = DataLoader(test_data, batch_size=64)\n",
        "\n",
        "class NeuralNetwork(nn.Module):\n",
        "    def __init__(self):\n",
        "        super(NeuralNetwork, self).__init__()\n",
        "        self.flatten = nn.Flatten()\n",
        "        self.linear_relu_stack = nn.Sequential(\n",
        "            nn.Linear(28*28, 512),\n",
        "            nn.ReLU(),\n",
        "            nn.Linear(512, 512),\n",
        "            nn.ReLU(),\n",
        "            nn.Linear(512, 10),\n",
        "        )\n",
        "\n",
        "    def forward(self, x):\n",
        "        x = self.flatten(x)\n",
        "        logits = self.linear_relu_stack(x)\n",
        "        return logits\n",
        "\n",
        "model = NeuralNetwork()"
      ]
    },
    {
      "cell_type": "markdown",
      "source": [
        "### Hyperparameters\n",
        "\n",
        "Hyperparameters are adjustable parameters that let you control the model optimization process. Different hyperparameter values can impact model training and convergence rates (read more about hyperparameter tuning)\n",
        "\n",
        "We define the following hyperparameters for training:\n",
        "\n",
        "- Number of Epochs - the number times to iterate over the dataset\n",
        "- Batch Size - the number of data samples propagated through the network before the parameters are updated\n",
        "- Learning Rate - how much to update models parameters at each batch/epoch. Smaller values yield slow learning speed, while large values may result in unpredictable behavior during training.\n",
        "\n"
      ],
      "metadata": {
        "id": "Co0hNaRkRT-e"
      }
    },
    {
      "cell_type": "code",
      "source": [
        "learning_rate = 1e-3\n",
        "batch_size = 64\n",
        "epochs = 5"
      ],
      "metadata": {
        "id": "bNUrjVLMRdlE"
      },
      "execution_count": 2,
      "outputs": []
    },
    {
      "cell_type": "markdown",
      "source": [
        "### Optimization loop \n",
        "Once we set our hyperparameters, we can then train and optimize our model with an optimization loop. Each iteration of the optimization loop is called an epoch.\n",
        "\n",
        "Each epoch consists of two main parts:\n",
        "\n",
        "- The Train Loop - iterate over the training dataset and try to converge to optimal parameters.\n",
        "- The Validation/Test Loop - iterate over the test dataset to check if model performance is improving.\n",
        "\n",
        "Let’s briefly familiarize ourselves with some of the concepts used in the training loop. \n",
        "\n",
        "#### Loss Function\n",
        "\n",
        "When presented with some training data, our untrained network is likely not to give the correct answer. Loss function measures the degree of dissimilarity of obtained result to the target value, and it is the loss function that we want to minimize during training. To calculate the loss we make a prediction using the inputs of our given data sample and compare it against the true data label value.\n",
        "\n",
        "Common loss functions include [`nn.MSELoss`](https://pytorch.org/docs/stable/generated/torch.nn.MSELoss.html#torch.nn.MSELoss) (Mean Square Error) for regression tasks, and [`nn.NLLLoss`](https://pytorch.org/docs/stable/generated/torch.nn.NLLLoss.html#torch.nn.NLLLoss) (Negative Log Likelihood) for classification. [`nn.CrossEntropyLoss`](https://pytorch.org/docs/stable/generated/torch.nn.CrossEntropyLoss.html#torch.nn.CrossEntropyLoss) combines `nn.LogSoftmax` and `nn.NLLLoss`.\n",
        "\n",
        "We pass our model’s output logits to nn.CrossEntropyLoss, which will normalize the logits and compute the prediction error."
      ],
      "metadata": {
        "id": "IbzDAt2JRkm6"
      }
    },
    {
      "cell_type": "code",
      "source": [
        "# Initialize the loss function\n",
        "loss_fn = nn.CrossEntropyLoss()"
      ],
      "metadata": {
        "id": "heRoqE0xRqrr"
      },
      "execution_count": 3,
      "outputs": []
    },
    {
      "cell_type": "markdown",
      "source": [
        "#### Optimizer\n",
        "\n",
        "Optimization is the process of adjusting model parameters to reduce model error in each training step. Optimization algorithms define how this process is performed (in this example we use Stochastic Gradient Descent). All optimization logic is encapsulated in the optimizer object. Here, we use the SGD optimizer; additionally, there are many different optimizers available in PyTorch such as ADAM and RMSProp, that work better for different kinds of models and data.\n",
        "\n",
        "We initialize the optimizer by registering the model’s parameters that need to be trained, and passing in the learning rate hyperparameter."
      ],
      "metadata": {
        "id": "ervES_w1SLT5"
      }
    },
    {
      "cell_type": "code",
      "source": [
        "optimizer = torch.optim.SGD(model.parameters(), lr=learning_rate)"
      ],
      "metadata": {
        "id": "98m5ywTrSNvJ"
      },
      "execution_count": 4,
      "outputs": []
    },
    {
      "cell_type": "markdown",
      "source": [
        "\n",
        "Inside the training loop, optimization happens in three steps:\n",
        "\n",
        "- Call optimizer.zero_grad() to reset the gradients of model parameters. Gradients by default add up; to prevent double-counting, we explicitly zero them at each iteration.\n",
        "- Backpropagate the prediction loss with a call to loss.backward(). PyTorch deposits the gradients of the loss w.r.t. each parameter.\n",
        "- Once we have our gradients, we call optimizer.step() to adjust the parameters by the gradients collected in the backward pass.\n",
        "\n"
      ],
      "metadata": {
        "id": "r6IIW9EgSRRa"
      }
    },
    {
      "cell_type": "code",
      "source": [
        "def train_loop(dataloader, model, loss_fn, optimizer):\n",
        "\n",
        "  # get total number of training examples\n",
        "  size = len(dataloader.dataset)\n",
        "\n",
        "  # loop over minibatches\n",
        "  for batch, (X, y) in enumerate(dataloader):\n",
        "\n",
        "    # compute predictions and loss\n",
        "    pred = model(X)\n",
        "    loss = loss_fn(pred, y)\n",
        "\n",
        "    # backpropagation\n",
        "    optimizer.zero_grad()\n",
        "    loss.backward()\n",
        "    optimizer.step()\n",
        "\n",
        "    # status update\n",
        "    if batch % 100 == 0:\n",
        "      loss, current = loss.item(), batch * len(X)\n",
        "      print(f\"loss: {loss:>7f}  [{current:>5d}/{size:>5d}]\")\n",
        "\n",
        "def test_loop(dataloader, model, loss_fn):\n",
        "  # get dataset size\n",
        "  size = len(dataloader.dataset)\n",
        "  num_batches = len(dataloader)\n",
        "  \n",
        "  # initalize variables\n",
        "  test_loss, correct = 0, 0\n",
        "\n",
        "  with torch.no_grad():\n",
        "    # predictions and loss\n",
        "    for X, y in dataloader:\n",
        "      pred = model(X)\n",
        "      test_loss += loss_fn(pred, y).item()\n",
        "      correct += (pred.argmax(1) == y.argmax(1)).type(torch.float).sum().item()\n",
        "\n",
        "    # adjust for batches and size\n",
        "    test_loss /= num_batches\n",
        "    correct /= size\n",
        "\n",
        "    print(f\"Test Error: \\n Accuracy: {(100*correct):>0.1f}%, Avg loss: {test_loss:>8f} \\n\")\n"
      ],
      "metadata": {
        "id": "JLnB3GdXSaEp"
      },
      "execution_count": 13,
      "outputs": []
    },
    {
      "cell_type": "code",
      "source": [
        "loss_fn = nn.CrossEntropyLoss()\n",
        "optimizer = torch.optim.SGD(model.parameters(), lr=learning_rate)\n",
        "\n",
        "epochs = 10\n",
        "for t in range(epochs):\n",
        "    print(f\"Epoch {t+1}\\n-------------------------------\")\n",
        "    train_loop(train_dataloader, model, loss_fn, optimizer)\n",
        "    test_loop(test_dataloader, model, loss_fn)\n",
        "print(\"Done!\")"
      ],
      "metadata": {
        "colab": {
          "base_uri": "https://localhost:8080/"
        },
        "id": "YiPe_zr4XixX",
        "outputId": "e8d79502-d566-4a39-bf84-4094451e1267"
      },
      "execution_count": 15,
      "outputs": [
        {
          "output_type": "stream",
          "name": "stdout",
          "text": [
            "Epoch 1\n",
            "-------------------------------\n",
            "loss: 2.175826  [    0/60000]\n",
            "loss: 2.165831  [ 6400/60000]\n",
            "loss: 2.108687  [12800/60000]\n",
            "loss: 2.119160  [19200/60000]\n",
            "loss: 2.088001  [25600/60000]\n",
            "loss: 2.021255  [32000/60000]\n",
            "loss: 2.048533  [38400/60000]\n",
            "loss: 1.981537  [44800/60000]\n",
            "loss: 1.972609  [51200/60000]\n",
            "loss: 1.909614  [57600/60000]\n",
            "Test Error: \n",
            " Accuracy: 62.5%, Avg loss: 1.906679 \n",
            "\n",
            "Epoch 2\n",
            "-------------------------------\n",
            "loss: 1.943676  [    0/60000]\n",
            "loss: 1.919718  [ 6400/60000]\n",
            "loss: 1.798067  [12800/60000]\n",
            "loss: 1.832732  [19200/60000]\n",
            "loss: 1.746299  [25600/60000]\n",
            "loss: 1.680497  [32000/60000]\n",
            "loss: 1.709234  [38400/60000]\n",
            "loss: 1.613958  [44800/60000]\n",
            "loss: 1.629369  [51200/60000]\n",
            "loss: 1.528280  [57600/60000]\n",
            "Test Error: \n",
            " Accuracy: 61.8%, Avg loss: 1.541244 \n",
            "\n",
            "Epoch 3\n",
            "-------------------------------\n",
            "loss: 1.614552  [    0/60000]\n",
            "loss: 1.581253  [ 6400/60000]\n",
            "loss: 1.421774  [12800/60000]\n",
            "loss: 1.490291  [19200/60000]\n",
            "loss: 1.385138  [25600/60000]\n",
            "loss: 1.360337  [32000/60000]\n",
            "loss: 1.387756  [38400/60000]\n",
            "loss: 1.314453  [44800/60000]\n",
            "loss: 1.339327  [51200/60000]\n",
            "loss: 1.242633  [57600/60000]\n",
            "Test Error: \n",
            " Accuracy: 63.6%, Avg loss: 1.266010 \n",
            "\n",
            "Epoch 4\n",
            "-------------------------------\n",
            "loss: 1.348033  [    0/60000]\n",
            "loss: 1.331950  [ 6400/60000]\n",
            "loss: 1.158902  [12800/60000]\n",
            "loss: 1.260863  [19200/60000]\n",
            "loss: 1.147548  [25600/60000]\n",
            "loss: 1.152066  [32000/60000]\n",
            "loss: 1.185598  [38400/60000]\n",
            "loss: 1.128703  [44800/60000]\n",
            "loss: 1.154024  [51200/60000]\n",
            "loss: 1.074158  [57600/60000]\n",
            "Test Error: \n",
            " Accuracy: 64.9%, Avg loss: 1.094480 \n",
            "\n",
            "Epoch 5\n",
            "-------------------------------\n",
            "loss: 1.168947  [    0/60000]\n",
            "loss: 1.173789  [ 6400/60000]\n",
            "loss: 0.986312  [12800/60000]\n",
            "loss: 1.116790  [19200/60000]\n",
            "loss: 1.002645  [25600/60000]\n",
            "loss: 1.012949  [32000/60000]\n",
            "loss: 1.060543  [38400/60000]\n",
            "loss: 1.011001  [44800/60000]\n",
            "loss: 1.034245  [51200/60000]\n",
            "loss: 0.969066  [57600/60000]\n",
            "Test Error: \n",
            " Accuracy: 65.9%, Avg loss: 0.984495 \n",
            "\n",
            "Epoch 6\n",
            "-------------------------------\n",
            "loss: 1.045544  [    0/60000]\n",
            "loss: 1.071120  [ 6400/60000]\n",
            "loss: 0.868334  [12800/60000]\n",
            "loss: 1.021687  [19200/60000]\n",
            "loss: 0.913005  [25600/60000]\n",
            "loss: 0.915727  [32000/60000]\n",
            "loss: 0.979607  [38400/60000]\n",
            "loss: 0.935359  [44800/60000]\n",
            "loss: 0.952461  [51200/60000]\n",
            "loss: 0.900084  [57600/60000]\n",
            "Test Error: \n",
            " Accuracy: 67.0%, Avg loss: 0.910562 \n",
            "\n",
            "Epoch 7\n",
            "-------------------------------\n",
            "loss: 0.956303  [    0/60000]\n",
            "loss: 1.000870  [ 6400/60000]\n",
            "loss: 0.784808  [12800/60000]\n",
            "loss: 0.955539  [19200/60000]\n",
            "loss: 0.853865  [25600/60000]\n",
            "loss: 0.845867  [32000/60000]\n",
            "loss: 0.923462  [38400/60000]\n",
            "loss: 0.885663  [44800/60000]\n",
            "loss: 0.894324  [51200/60000]\n",
            "loss: 0.851505  [57600/60000]\n",
            "Test Error: \n",
            " Accuracy: 68.1%, Avg loss: 0.858144 \n",
            "\n",
            "Epoch 8\n",
            "-------------------------------\n",
            "loss: 0.888762  [    0/60000]\n",
            "loss: 0.949303  [ 6400/60000]\n",
            "loss: 0.723233  [12800/60000]\n",
            "loss: 0.907146  [19200/60000]\n",
            "loss: 0.812112  [25600/60000]\n",
            "loss: 0.794184  [32000/60000]\n",
            "loss: 0.881441  [38400/60000]\n",
            "loss: 0.851375  [44800/60000]\n",
            "loss: 0.851545  [51200/60000]\n",
            "loss: 0.814972  [57600/60000]\n",
            "Test Error: \n",
            " Accuracy: 69.2%, Avg loss: 0.818899 \n",
            "\n",
            "Epoch 9\n",
            "-------------------------------\n",
            "loss: 0.835431  [    0/60000]\n",
            "loss: 0.908586  [ 6400/60000]\n",
            "loss: 0.675952  [12800/60000]\n",
            "loss: 0.870178  [19200/60000]\n",
            "loss: 0.780427  [25600/60000]\n",
            "loss: 0.754935  [32000/60000]\n",
            "loss: 0.847877  [38400/60000]\n",
            "loss: 0.826061  [44800/60000]\n",
            "loss: 0.818483  [51200/60000]\n",
            "loss: 0.785886  [57600/60000]\n",
            "Test Error: \n",
            " Accuracy: 70.4%, Avg loss: 0.787910 \n",
            "\n",
            "Epoch 10\n",
            "-------------------------------\n",
            "loss: 0.791558  [    0/60000]\n",
            "loss: 0.874475  [ 6400/60000]\n",
            "loss: 0.638080  [12800/60000]\n",
            "loss: 0.841060  [19200/60000]\n",
            "loss: 0.755087  [25600/60000]\n",
            "loss: 0.724281  [32000/60000]\n",
            "loss: 0.819339  [38400/60000]\n",
            "loss: 0.806014  [44800/60000]\n",
            "loss: 0.792017  [51200/60000]\n",
            "loss: 0.761538  [57600/60000]\n",
            "Test Error: \n",
            " Accuracy: 71.7%, Avg loss: 0.762242 \n",
            "\n",
            "Done!\n"
          ]
        }
      ]
    }
  ]
}