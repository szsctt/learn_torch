{
  "nbformat": 4,
  "nbformat_minor": 0,
  "metadata": {
    "colab": {
      "provenance": [],
      "authorship_tag": "ABX9TyOMYYxMRC4+JeQ86x19zkpU",
      "include_colab_link": true
    },
    "kernelspec": {
      "name": "python3",
      "display_name": "Python 3"
    },
    "language_info": {
      "name": "python"
    },
    "accelerator": "GPU",
    "gpuClass": "standard"
  },
  "cells": [
    {
      "cell_type": "markdown",
      "metadata": {
        "id": "view-in-github",
        "colab_type": "text"
      },
      "source": [
        "<a href=\"https://colab.research.google.com/github/szsctt/learn_torch/blob/main/learn_torch_3_neural_nets.ipynb\" target=\"_parent\"><img src=\"https://colab.research.google.com/assets/colab-badge.svg\" alt=\"Open In Colab\"/></a>"
      ]
    },
    {
      "cell_type": "markdown",
      "source": [
        "## Building neural nets\n",
        "\n",
        "From the [torch documenation](https://pytorch.org/tutorials/beginner/basics/buildmodel_tutorial.html).\n",
        "\n",
        "We use the `nn` module from `torch` to build neural networks.\n",
        "\n",
        "Here this is demonstrated by using the FashionMNIST dataset."
      ],
      "metadata": {
        "id": "sYouSYB69hsJ"
      }
    },
    {
      "cell_type": "code",
      "source": [
        "import os\n",
        "import torch\n",
        "from torch import nn\n",
        "from torch.utils.data import DataLoader\n",
        "from torchvision import datasets, transforms"
      ],
      "metadata": {
        "id": "S0yPhPK59RkS"
      },
      "execution_count": 1,
      "outputs": []
    },
    {
      "cell_type": "markdown",
      "source": [
        "### Choosing a device to use\n",
        "\n",
        "Training on a GPU is generally faster, so use it if if one is available."
      ],
      "metadata": {
        "id": "ucSONzpM9u5e"
      }
    },
    {
      "cell_type": "code",
      "source": [
        "device = \"cuda\" if torch.cuda.is_available() else \"cpu\"\n",
        "print(f\"Using {device}\")"
      ],
      "metadata": {
        "colab": {
          "base_uri": "https://localhost:8080/"
        },
        "id": "rAE3OFIw-FWn",
        "outputId": "6349bec7-7b75-40bb-8985-fde3d6860adf"
      },
      "execution_count": 2,
      "outputs": [
        {
          "output_type": "stream",
          "name": "stdout",
          "text": [
            "Using cuda\n"
          ]
        }
      ]
    },
    {
      "cell_type": "markdown",
      "source": [
        "### Define a network class\n",
        "\n",
        "We define a class by subclassing `nn.Module`, and initalize the layers in the `__init__` method.  \n",
        "\n",
        "We also have to define a `forward` method that defines how to do forward propagation."
      ],
      "metadata": {
        "id": "-S9S37WY-Or6"
      }
    },
    {
      "cell_type": "code",
      "source": [
        "class NeuralNetwork(nn.Module):\n",
        "  def __init__(self):\n",
        "    super(NeuralNetwork, self).__init__()\n",
        "    self.flatten = nn.Flatten()\n",
        "    self.linear_relu_stack = nn.Sequential(\n",
        "        nn.Linear(28*28, 512),\n",
        "        nn.ReLU(),\n",
        "        nn.Linear(512, 512),\n",
        "        nn.ReLU(),\n",
        "        nn.Linear(512, 10)\n",
        "    )\n",
        "\n",
        "  def forward(self, x):\n",
        "    x = self.flatten(x)\n",
        "    logits = self.linear_relu_stack(x)\n",
        "    return logits\n"
      ],
      "metadata": {
        "id": "j-tgPpYO-kbm"
      },
      "execution_count": 3,
      "outputs": []
    },
    {
      "cell_type": "markdown",
      "source": [
        "We create an instance of `NeuralNetwork` and move it to `device`."
      ],
      "metadata": {
        "id": "2Uo0e78O_UHc"
      }
    },
    {
      "cell_type": "code",
      "source": [
        "model = NeuralNetwork().to(device)\n",
        "print(model)"
      ],
      "metadata": {
        "colab": {
          "base_uri": "https://localhost:8080/"
        },
        "id": "LCgxsne__ZVp",
        "outputId": "b162f20d-a108-4a35-a724-37241f968a7c"
      },
      "execution_count": 4,
      "outputs": [
        {
          "output_type": "stream",
          "name": "stdout",
          "text": [
            "NeuralNetwork(\n",
            "  (flatten): Flatten(start_dim=1, end_dim=-1)\n",
            "  (linear_relu_stack): Sequential(\n",
            "    (0): Linear(in_features=784, out_features=512, bias=True)\n",
            "    (1): ReLU()\n",
            "    (2): Linear(in_features=512, out_features=512, bias=True)\n",
            "    (3): ReLU()\n",
            "    (4): Linear(in_features=512, out_features=10, bias=True)\n",
            "  )\n",
            ")\n"
          ]
        }
      ]
    },
    {
      "cell_type": "markdown",
      "source": [
        "Use a model by passing it data, which calls its `forward` method as well as doing some other stuff.  This other stuff can be important, so avoid calling the `forward` method directly."
      ],
      "metadata": {
        "id": "4-vI7iGgA7R5"
      }
    },
    {
      "cell_type": "code",
      "source": [
        "X = torch.rand(1, 28, 28 , device=device)\n",
        "logits = model(X)\n",
        "pred_prob = nn.Softmax(dim=1)(logits)\n",
        "y_pred = pred_prob.argmax(1)\n",
        "print(f\"Predicted class {y_pred}\")\n"
      ],
      "metadata": {
        "colab": {
          "base_uri": "https://localhost:8080/"
        },
        "id": "f01fUyO8BHS2",
        "outputId": "20469b33-f59c-4642-8863-a9007fd48a3b"
      },
      "execution_count": 5,
      "outputs": [
        {
          "output_type": "stream",
          "name": "stdout",
          "text": [
            "Predicted class tensor([2], device='cuda:0')\n"
          ]
        }
      ]
    },
    {
      "cell_type": "markdown",
      "source": [
        "### Model layers\n",
        "\n",
        "Let’s break down the layers in the FashionMNIST model. To illustrate it, we will take a sample minibatch of 3 images of size 28x28 and see what happens to it as we pass it through the network."
      ],
      "metadata": {
        "id": "s81oBEhPCMkK"
      }
    },
    {
      "cell_type": "code",
      "source": [
        "input_image = torch.rand(3,28,28)\n",
        "print(input_image.size())"
      ],
      "metadata": {
        "colab": {
          "base_uri": "https://localhost:8080/"
        },
        "id": "tAbNx3AxCOJr",
        "outputId": "378479c6-686a-4d83-f1e7-9a56d558f063"
      },
      "execution_count": 6,
      "outputs": [
        {
          "output_type": "stream",
          "name": "stdout",
          "text": [
            "torch.Size([3, 28, 28])\n"
          ]
        }
      ]
    },
    {
      "cell_type": "markdown",
      "source": [
        "#### nn.Flatten()\n",
        "\n",
        "We initialize the nn.Flatten layer to convert each 2D 28x28 image into a contiguous array of 784 pixel values (the minibatch dimension (at dim=0) is maintained)."
      ],
      "metadata": {
        "id": "LycmOuYrCTba"
      }
    },
    {
      "cell_type": "code",
      "source": [
        "flatten = nn.Flatten()\n",
        "flat_image = flatten(input_image)\n",
        "print(flat_image.size())"
      ],
      "metadata": {
        "colab": {
          "base_uri": "https://localhost:8080/"
        },
        "id": "MpHz638LCZr_",
        "outputId": "5148283f-bd5e-41b7-e45f-86b2a0ef3a01"
      },
      "execution_count": 7,
      "outputs": [
        {
          "output_type": "stream",
          "name": "stdout",
          "text": [
            "torch.Size([3, 784])\n"
          ]
        }
      ]
    },
    {
      "cell_type": "markdown",
      "source": [
        "#### nn.Linear()\n",
        "\n",
        "The linear layer is a module that applies a linear transformation on the input using its stored weights and biases."
      ],
      "metadata": {
        "id": "OshZy2f2Cjpl"
      }
    },
    {
      "cell_type": "code",
      "source": [
        "layer1 = nn.Linear(in_features=28*28, out_features=20)\n",
        "hidden1 = layer1(flat_image)\n",
        "print(hidden1.size())"
      ],
      "metadata": {
        "colab": {
          "base_uri": "https://localhost:8080/"
        },
        "id": "OYYaSiLrClqm",
        "outputId": "780b1956-c82e-4058-b8e5-05e5ee1ad94c"
      },
      "execution_count": 8,
      "outputs": [
        {
          "output_type": "stream",
          "name": "stdout",
          "text": [
            "torch.Size([3, 20])\n"
          ]
        }
      ]
    },
    {
      "cell_type": "markdown",
      "source": [
        "#### nn.ReLU()\n",
        "\n",
        "Non-linear activations are what create the complex mappings between the model’s inputs and outputs. They are applied after linear transformations to introduce nonlinearity, helping neural networks learn a wide variety of phenomena.\n",
        "\n",
        "In this model, we use [nn.ReLU](https://pytorch.org/docs/stable/generated/torch.nn.ReLU.html) between our linear layers, but there’s other activations to introduce non-linearity in your model."
      ],
      "metadata": {
        "id": "6_lN5rLaCsLC"
      }
    },
    {
      "cell_type": "code",
      "source": [
        "print(f\"Before ReLU: {hidden1}\\n\\n\")\n",
        "hidden1 = nn.ReLU()(hidden1)\n",
        "print(f\"After ReLU: {hidden1}\")"
      ],
      "metadata": {
        "colab": {
          "base_uri": "https://localhost:8080/"
        },
        "id": "xJd4XqMTC4lj",
        "outputId": "ad5efdc4-fcff-4013-9ca9-afaa8547118d"
      },
      "execution_count": 9,
      "outputs": [
        {
          "output_type": "stream",
          "name": "stdout",
          "text": [
            "Before ReLU: tensor([[-0.1337,  0.4827,  0.5172,  0.0405, -0.0777,  0.3644, -0.4315, -0.1168,\n",
            "          0.0867,  0.6330, -0.8507, -0.1167, -0.0566,  0.0995, -0.0707,  0.1849,\n",
            "          0.1589, -0.4606, -0.4586, -0.1069],\n",
            "        [-0.0583,  0.1156,  0.7601, -0.2639,  0.1834,  0.6562, -0.3446, -0.1370,\n",
            "          0.0266,  0.3410, -0.4858,  0.0395, -0.1243, -0.1980,  0.0618,  0.4563,\n",
            "          0.1287, -0.6040, -0.1754, -0.0533],\n",
            "        [-0.0579,  0.5081,  0.4136, -0.2245, -0.0844,  0.5099, -0.4828, -0.1277,\n",
            "          0.0718,  1.1178, -0.6548,  0.0813,  0.0343,  0.1294, -0.2276,  0.3000,\n",
            "          0.2848, -0.3334, -0.2636, -0.2942]], grad_fn=<AddmmBackward0>)\n",
            "\n",
            "\n",
            "After ReLU: tensor([[0.0000, 0.4827, 0.5172, 0.0405, 0.0000, 0.3644, 0.0000, 0.0000, 0.0867,\n",
            "         0.6330, 0.0000, 0.0000, 0.0000, 0.0995, 0.0000, 0.1849, 0.1589, 0.0000,\n",
            "         0.0000, 0.0000],\n",
            "        [0.0000, 0.1156, 0.7601, 0.0000, 0.1834, 0.6562, 0.0000, 0.0000, 0.0266,\n",
            "         0.3410, 0.0000, 0.0395, 0.0000, 0.0000, 0.0618, 0.4563, 0.1287, 0.0000,\n",
            "         0.0000, 0.0000],\n",
            "        [0.0000, 0.5081, 0.4136, 0.0000, 0.0000, 0.5099, 0.0000, 0.0000, 0.0718,\n",
            "         1.1178, 0.0000, 0.0813, 0.0343, 0.1294, 0.0000, 0.3000, 0.2848, 0.0000,\n",
            "         0.0000, 0.0000]], grad_fn=<ReluBackward0>)\n"
          ]
        }
      ]
    },
    {
      "cell_type": "markdown",
      "source": [
        "#### nn.Sequential()\n",
        "\n",
        "nn.Sequential is an ordered container of modules. The data is passed through all the modules in the same order as defined. You can use sequential containers to put together a quick network like seq_modules."
      ],
      "metadata": {
        "id": "DvL7MA9TC_5q"
      }
    },
    {
      "cell_type": "code",
      "source": [
        "seq_modules = nn.Sequential(\n",
        "    flatten,\n",
        "    layer1,\n",
        "    nn.ReLU(),\n",
        "    nn.Linear(20, 10)\n",
        ")\n",
        "input_image = torch.rand(3,28,28)\n",
        "logits = seq_modules(input_image)"
      ],
      "metadata": {
        "id": "FWEqpst_DFgv"
      },
      "execution_count": 10,
      "outputs": []
    },
    {
      "cell_type": "markdown",
      "source": [
        "#### nn.Softmax\n",
        "\n",
        "The last linear layer of the neural network returns logits - raw values in [-infty, infty] - which are passed to the nn.Softmax module. The logits are scaled to values [0, 1] representing the model’s predicted probabilities for each class. dim parameter indicates the dimension along which the values must sum to 1."
      ],
      "metadata": {
        "id": "Wc48zIukDN8M"
      }
    },
    {
      "cell_type": "code",
      "source": [
        "softmax = nn.Softmax(dim=1)\n",
        "pred_probab = softmax(logits)"
      ],
      "metadata": {
        "id": "OBEHj3r3DSUZ"
      },
      "execution_count": 11,
      "outputs": []
    },
    {
      "cell_type": "markdown",
      "source": [
        "#### Model Parameters\n",
        "\n",
        "Many layers inside a neural network are parameterized, i.e. have associated weights and biases that are optimized during training. Subclassing nn.Module automatically tracks all fields defined inside your model object, and makes all parameters accessible using your model’s parameters() or named_parameters() methods.\n",
        "\n",
        "In this example, we iterate over each parameter, and print its size and a preview of its values."
      ],
      "metadata": {
        "id": "VOThJ4SADat3"
      }
    },
    {
      "cell_type": "code",
      "source": [
        "print(f\"Model structure: {model}\\n\\n\")\n",
        "\n",
        "for name, param in model.named_parameters():\n",
        "  print(f\"Layer: {name}; size: {param.size()}; Values: {param[:2]}\\n\")"
      ],
      "metadata": {
        "colab": {
          "base_uri": "https://localhost:8080/"
        },
        "id": "gDavoNC-DeN2",
        "outputId": "f735c492-9d87-4c91-8db6-6570261a0103"
      },
      "execution_count": 12,
      "outputs": [
        {
          "output_type": "stream",
          "name": "stdout",
          "text": [
            "Model structure: NeuralNetwork(\n",
            "  (flatten): Flatten(start_dim=1, end_dim=-1)\n",
            "  (linear_relu_stack): Sequential(\n",
            "    (0): Linear(in_features=784, out_features=512, bias=True)\n",
            "    (1): ReLU()\n",
            "    (2): Linear(in_features=512, out_features=512, bias=True)\n",
            "    (3): ReLU()\n",
            "    (4): Linear(in_features=512, out_features=10, bias=True)\n",
            "  )\n",
            ")\n",
            "\n",
            "\n",
            "Layer: linear_relu_stack.0.weight; size: torch.Size([512, 784]); Values: tensor([[ 0.0177,  0.0167,  0.0193,  ...,  0.0141, -0.0186,  0.0290],\n",
            "        [ 0.0206,  0.0117,  0.0330,  ...,  0.0352, -0.0176, -0.0026]],\n",
            "       device='cuda:0', grad_fn=<SliceBackward0>)\n",
            "\n",
            "Layer: linear_relu_stack.0.bias; size: torch.Size([512]); Values: tensor([0.0302, 0.0136], device='cuda:0', grad_fn=<SliceBackward0>)\n",
            "\n",
            "Layer: linear_relu_stack.2.weight; size: torch.Size([512, 512]); Values: tensor([[ 0.0259, -0.0077, -0.0061,  ..., -0.0168, -0.0129,  0.0150],\n",
            "        [ 0.0134, -0.0372,  0.0132,  ...,  0.0358, -0.0099,  0.0254]],\n",
            "       device='cuda:0', grad_fn=<SliceBackward0>)\n",
            "\n",
            "Layer: linear_relu_stack.2.bias; size: torch.Size([512]); Values: tensor([0.0055, 0.0284], device='cuda:0', grad_fn=<SliceBackward0>)\n",
            "\n",
            "Layer: linear_relu_stack.4.weight; size: torch.Size([10, 512]); Values: tensor([[-0.0393,  0.0137,  0.0348,  ...,  0.0353,  0.0057,  0.0179],\n",
            "        [ 0.0375,  0.0308, -0.0028,  ...,  0.0252,  0.0184,  0.0392]],\n",
            "       device='cuda:0', grad_fn=<SliceBackward0>)\n",
            "\n",
            "Layer: linear_relu_stack.4.bias; size: torch.Size([10]); Values: tensor([-0.0218,  0.0428], device='cuda:0', grad_fn=<SliceBackward0>)\n",
            "\n"
          ]
        }
      ]
    }
  ]
}